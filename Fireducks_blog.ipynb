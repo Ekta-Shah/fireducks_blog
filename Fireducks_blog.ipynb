{
  "nbformat": 4,
  "nbformat_minor": 0,
  "metadata": {
    "colab": {
      "provenance": []
    },
    "kernelspec": {
      "name": "python3",
      "display_name": "Python 3"
    },
    "language_info": {
      "name": "python"
    }
  },
  "cells": [
    {
      "cell_type": "markdown",
      "source": [
        "Installation of fireducks library"
      ],
      "metadata": {
        "id": "8k5DFbo1ESE6"
      }
    },
    {
      "cell_type": "code",
      "source": [
        "!pip install fireducks"
      ],
      "metadata": {
        "colab": {
          "base_uri": "https://localhost:8080/",
          "height": 532
        },
        "id": "IuNMms7NBhJB",
        "outputId": "c125f4f5-9ca4-4682-8960-17063279323b"
      },
      "execution_count": 7,
      "outputs": [
        {
          "output_type": "stream",
          "name": "stdout",
          "text": [
            "Collecting fireducks\n",
            "  Downloading fireducks-1.2.5-cp311-cp311-manylinux_2_28_x86_64.whl.metadata (1.0 kB)\n",
            "Collecting firefw==1.2.5 (from fireducks)\n",
            "  Downloading firefw-1.2.5-py3-none-any.whl.metadata (818 bytes)\n",
            "Requirement already satisfied: pandas<2.3.0,>=1.5.3 in /usr/local/lib/python3.11/dist-packages (from fireducks) (2.2.2)\n",
            "Collecting pyarrow<19.1,>=19.0 (from fireducks)\n",
            "  Downloading pyarrow-19.0.1-cp311-cp311-manylinux_2_28_x86_64.whl.metadata (3.3 kB)\n",
            "Requirement already satisfied: numpy>=1.23.2 in /usr/local/lib/python3.11/dist-packages (from pandas<2.3.0,>=1.5.3->fireducks) (2.0.2)\n",
            "Requirement already satisfied: python-dateutil>=2.8.2 in /usr/local/lib/python3.11/dist-packages (from pandas<2.3.0,>=1.5.3->fireducks) (2.8.2)\n",
            "Requirement already satisfied: pytz>=2020.1 in /usr/local/lib/python3.11/dist-packages (from pandas<2.3.0,>=1.5.3->fireducks) (2025.2)\n",
            "Requirement already satisfied: tzdata>=2022.7 in /usr/local/lib/python3.11/dist-packages (from pandas<2.3.0,>=1.5.3->fireducks) (2025.2)\n",
            "Requirement already satisfied: six>=1.5 in /usr/local/lib/python3.11/dist-packages (from python-dateutil>=2.8.2->pandas<2.3.0,>=1.5.3->fireducks) (1.17.0)\n",
            "Downloading fireducks-1.2.5-cp311-cp311-manylinux_2_28_x86_64.whl (7.3 MB)\n",
            "\u001b[2K   \u001b[90m━━━━━━━━━━━━━━━━━━━━━━━━━━━━━━━━━━━━━━━━\u001b[0m \u001b[32m7.3/7.3 MB\u001b[0m \u001b[31m43.7 MB/s\u001b[0m eta \u001b[36m0:00:00\u001b[0m\n",
            "\u001b[?25hDownloading firefw-1.2.5-py3-none-any.whl (12 kB)\n",
            "Downloading pyarrow-19.0.1-cp311-cp311-manylinux_2_28_x86_64.whl (42.1 MB)\n",
            "\u001b[2K   \u001b[90m━━━━━━━━━━━━━━━━━━━━━━━━━━━━━━━━━━━━━━━━\u001b[0m \u001b[32m42.1/42.1 MB\u001b[0m \u001b[31m18.3 MB/s\u001b[0m eta \u001b[36m0:00:00\u001b[0m\n",
            "\u001b[?25hInstalling collected packages: pyarrow, firefw, fireducks\n",
            "  Attempting uninstall: pyarrow\n",
            "    Found existing installation: pyarrow 18.1.0\n",
            "    Uninstalling pyarrow-18.1.0:\n",
            "      Successfully uninstalled pyarrow-18.1.0\n",
            "Successfully installed fireducks-1.2.5 firefw-1.2.5 pyarrow-19.0.1\n"
          ]
        },
        {
          "output_type": "display_data",
          "data": {
            "application/vnd.colab-display-data+json": {
              "pip_warning": {
                "packages": [
                  "pyarrow"
                ]
              },
              "id": "3eee773374ce4a728b6a35206b7a0432"
            }
          },
          "metadata": {}
        }
      ]
    },
    {
      "cell_type": "markdown",
      "source": [
        "Read the csv file and create two dfs"
      ],
      "metadata": {
        "id": "5TdwJPSGEZoR"
      }
    },
    {
      "cell_type": "code",
      "execution_count": 3,
      "metadata": {
        "id": "VUzYB-gDZ9eg",
        "colab": {
          "base_uri": "https://localhost:8080/"
        },
        "outputId": "ee1a945a-2b8c-4efa-c3e7-dc17da574840"
      },
      "outputs": [
        {
          "output_type": "stream",
          "name": "stdout",
          "text": [
            "  symbol        date  price  daily_return\n",
            "1   MSFT  Feb 1 2000  36.35     -0.086913\n",
            "2   MSFT  Mar 1 2000  43.22      0.188996\n",
            "3   MSFT  Apr 1 2000  28.37     -0.343591\n",
            "4   MSFT  May 1 2000  25.45     -0.102926\n",
            "5   MSFT  Jun 1 2000  32.54      0.278585\n"
          ]
        }
      ],
      "source": [
        "import pandas as pd\n",
        "import fireducks.pandas as fpd  # Hypothetical Fireducks-Pandas integration\n",
        "import numpy as np\n",
        "import time\n",
        "\n",
        "# Load data\n",
        "df = pd.read_csv(\"stocks.csv\")\n",
        "\n",
        "# Calculate daily returns\n",
        "df[\"daily_return\"] = df.groupby(\"symbol\")[\"price\"].pct_change()\n",
        "\n",
        "# Filter NaN (first day)\n",
        "df_clean = df.dropna()\n",
        "\n",
        "# Preview\n",
        "print(df_clean.head())\n",
        "df = df_clean\n",
        "df_fireducks = fpd.DataFrame(df)"
      ]
    },
    {
      "cell_type": "markdown",
      "source": [
        "Pandas"
      ],
      "metadata": {
        "id": "xLMCd3G3Eefj"
      }
    },
    {
      "cell_type": "code",
      "source": [
        "start = time.time()\n",
        "df[\"daily_return\"] = df.groupby(\"symbol\")[\"price\"].pct_change()\n",
        "pandas_time = time.time() - start\n",
        "print(f\"Pandas time: {pandas_time:.4f} seconds\")"
      ],
      "metadata": {
        "colab": {
          "base_uri": "https://localhost:8080/"
        },
        "id": "Mau1xnAQDwck",
        "outputId": "e5b02b57-4c61-4bfd-ad9f-d97df07ac2dc"
      },
      "execution_count": 4,
      "outputs": [
        {
          "output_type": "stream",
          "name": "stdout",
          "text": [
            "Pandas time: 0.0050 seconds\n"
          ]
        }
      ]
    },
    {
      "cell_type": "markdown",
      "source": [
        "Fireducks"
      ],
      "metadata": {
        "id": "86-b0HdJEgSz"
      }
    },
    {
      "cell_type": "code",
      "source": [
        "start = time.time()\n",
        "df_fireducks[\"daily_return\"] = df_fireducks.groupby(\"symbol\")[\"price\"].pct_change()\n",
        "fireducks_time = time.time() - start\n",
        "print(f\"Fireducks time: {fireducks_time:.4f} seconds\")"
      ],
      "metadata": {
        "colab": {
          "base_uri": "https://localhost:8080/"
        },
        "id": "-Bf7-aGcEEOn",
        "outputId": "8399fb32-f04e-43e8-bc7e-061366987e0e"
      },
      "execution_count": 5,
      "outputs": [
        {
          "output_type": "stream",
          "name": "stdout",
          "text": [
            "Fireducks time: 0.0100 seconds\n"
          ]
        }
      ]
    },
    {
      "cell_type": "markdown",
      "source": [
        "Pandas"
      ],
      "metadata": {
        "id": "wb4Y0QTXKmHr"
      }
    },
    {
      "cell_type": "code",
      "source": [
        "start = time.time()\n",
        "df[\"cumulative_return\"] = (\n",
        "    df.groupby(\"symbol\")[\"daily_return\"]\n",
        "    .apply(lambda x: (1 + x).cumprod() - 1)\n",
        "    .reset_index(level=0, drop=True) # Reset index to match original DataFrame\n",
        ")\n",
        "pandas_time_cumulative = time.time() - start\n",
        "print(f\"Pandas time: {pandas_time_cumulative:.4f} seconds\")"
      ],
      "metadata": {
        "colab": {
          "base_uri": "https://localhost:8080/"
        },
        "id": "u0aYlBuvENBv",
        "outputId": "a0278fa7-514e-4e4e-fa2b-341784275cc8"
      },
      "execution_count": 14,
      "outputs": [
        {
          "output_type": "stream",
          "name": "stdout",
          "text": [
            "Pandas time: 0.0073 seconds\n"
          ]
        }
      ]
    },
    {
      "cell_type": "markdown",
      "source": [
        "Fireducks"
      ],
      "metadata": {
        "id": "TqQaFJd9Kn9T"
      }
    },
    {
      "cell_type": "code",
      "source": [
        "start = time.time()\n",
        "# Hypothetical optimized Fireducks method\n",
        "df_fireducks[\"cumulative_return\"] = (\n",
        "    df_fireducks.groupby(\"symbol\")[\"daily_return\"]\n",
        "    .apply(lambda x: (1 + x).cumprod() - 1)\n",
        "    .reset_index(level=0, drop=True) # Reset\n",
        ")\n",
        "fireducks_time_cumulative = time.time() - start\n",
        "print(f\"Fireducks time: {fireducks_time_cumulative:.4f} seconds\")"
      ],
      "metadata": {
        "colab": {
          "base_uri": "https://localhost:8080/"
        },
        "id": "k3syHuBaEmaw",
        "outputId": "11914d0a-f162-4194-898f-fa8de9565ede"
      },
      "execution_count": 15,
      "outputs": [
        {
          "output_type": "stream",
          "name": "stdout",
          "text": [
            "Fireducks time: 0.0510 seconds\n"
          ]
        }
      ]
    },
    {
      "cell_type": "markdown",
      "source": [
        "Pandas"
      ],
      "metadata": {
        "id": "p3ZgrCA0KppA"
      }
    },
    {
      "cell_type": "code",
      "source": [
        "start = time.time()\n",
        "df[\"30d_volatility\"] = (\n",
        "    df.groupby(\"symbol\")[\"daily_return\"]\n",
        "    .rolling(window=30, min_periods=15)\n",
        "    .std()\n",
        "    .reset_index(level=0, drop=True)\n",
        ")\n",
        "pandas_time = time.time() - start\n",
        "print(f\"Pandas rolling volatility time: {pandas_time:.2f} seconds\")"
      ],
      "metadata": {
        "colab": {
          "base_uri": "https://localhost:8080/"
        },
        "id": "9sRSF-dXGeZ3",
        "outputId": "e18d9505-613e-4120-dee9-ac1e4ea0cd9b"
      },
      "execution_count": 16,
      "outputs": [
        {
          "output_type": "stream",
          "name": "stdout",
          "text": [
            "Pandas rolling volatility time: 0.02 seconds\n"
          ]
        }
      ]
    },
    {
      "cell_type": "markdown",
      "source": [
        "Fireducks"
      ],
      "metadata": {
        "id": "aW3lZCQ-KrxI"
      }
    },
    {
      "cell_type": "code",
      "source": [
        "start = time.time()\n",
        "df_fireducks[\"30d_volatility\"] = (\n",
        "    df_fireducks.groupby(\"symbol\")[\"daily_return\"]\n",
        "    .rolling(window=30, min_periods=15)\n",
        "    .std()\n",
        "    .reset_index(level=0, drop=True)\n",
        ")\n",
        "fireducks_time = time.time() - start\n",
        "print(f\"Fireducks rolling volatility time: {fireducks_time:.2f} seconds\")"
      ],
      "metadata": {
        "colab": {
          "base_uri": "https://localhost:8080/"
        },
        "id": "cOu-4yxmI0zw",
        "outputId": "0ae1fd3d-7803-4543-c08a-c0f2ccfaea03"
      },
      "execution_count": 18,
      "outputs": [
        {
          "output_type": "stream",
          "name": "stdout",
          "text": [
            "Fireducks rolling volatility time: 0.01 seconds\n"
          ]
        }
      ]
    },
    {
      "cell_type": "markdown",
      "source": [
        "Pandas"
      ],
      "metadata": {
        "id": "ci5SYpx6KuM9"
      }
    },
    {
      "cell_type": "code",
      "source": [
        "from scipy.optimize import minimize # Import the minimize function\n",
        "\n",
        "returns = df.pivot(index=\"date\", columns=\"symbol\", values=\"daily_return\")\n",
        "cov_matrix = returns.cov().values\n",
        "expected_returns = returns.mean().values\n",
        "\n",
        "# Optimization function (Pandas + NumPy)\n",
        "def objective(weights):\n",
        "    port_return = np.dot(weights, expected_returns) * 252\n",
        "    port_vol = np.sqrt(np.dot(weights.T, np.dot(cov_matrix, weights))) * np.sqrt(252)\n",
        "    return -port_return / port_vol  # Minimize negative Sharpe ratio\n",
        "\n",
        "start = time.time()\n",
        "result = minimize(\n",
        "    objective,\n",
        "    x0=np.ones(len(returns.columns)) / len(returns.columns),  # Equal weights, use returns.columns for len(symbols)\n",
        "    bounds=[(0, 1)] * len(returns.columns), # Use returns.columns for len(symbols)\n",
        "    constraints={\"type\": \"eq\", \"fun\": lambda w: np.sum(w) - 1}\n",
        ")\n",
        "pandas_time = time.time() - start\n",
        "print(f\"Pandas optimization time: {pandas_time:.2f} seconds\")"
      ],
      "metadata": {
        "colab": {
          "base_uri": "https://localhost:8080/"
        },
        "id": "53ixkn7aI4jm",
        "outputId": "72b3f08b-a59d-4a7d-f7d1-e78af413dc9c"
      },
      "execution_count": 20,
      "outputs": [
        {
          "output_type": "stream",
          "name": "stdout",
          "text": [
            "Pandas optimization time: 0.04 seconds\n"
          ]
        }
      ]
    },
    {
      "cell_type": "markdown",
      "source": [
        "Fireducks"
      ],
      "metadata": {
        "id": "IXxRCbdYKwuK"
      }
    },
    {
      "cell_type": "code",
      "source": [
        "start = time.time()\n",
        "\n",
        "# Step 1: Compute covariance matrix using DuckDB\n",
        "returns = df_fireducks.pivot(index=\"date\", columns=\"symbol\", values=\"daily_return\")\n",
        "cov_matrix = returns.cov().values\n",
        "expected_returns = returns.mean().values\n",
        "\n",
        "# Optimization function (Pandas + NumPy)\n",
        "def objective(weights):\n",
        "    port_return = np.dot(weights, expected_returns) * 252\n",
        "    port_vol = np.sqrt(np.dot(weights.T, np.dot(cov_matrix, weights))) * np.sqrt(252)\n",
        "    return -port_return / port_vol  # Minimize negative Sharpe ratio\n",
        "\n",
        "start = time.time()\n",
        "result = minimize(\n",
        "    objective,\n",
        "    x0=np.ones(len(returns.columns)) / len(returns.columns),  # Equal weights, use returns.columns for len(symbols)\n",
        "    bounds=[(0, 1)] * len(returns.columns), # Use returns.columns for len(symbols)\n",
        "    constraints={\"type\": \"eq\", \"fun\": lambda w: np.sum(w) - 1}\n",
        ")\n",
        "fireducks_time = time.time() - start\n",
        "print(f\"Fireducks optimization time: {fireducks_time:.2f} seconds\")"
      ],
      "metadata": {
        "colab": {
          "base_uri": "https://localhost:8080/"
        },
        "id": "b621q_vIJ4hw",
        "outputId": "d1bd5528-b299-44ca-872e-212dab2de54f"
      },
      "execution_count": 22,
      "outputs": [
        {
          "output_type": "stream",
          "name": "stdout",
          "text": [
            "Fireducks optimization time: 0.01 seconds\n"
          ]
        }
      ]
    },
    {
      "cell_type": "code",
      "source": [],
      "metadata": {
        "id": "BcTG-SYDKMRw"
      },
      "execution_count": null,
      "outputs": []
    }
  ]
}